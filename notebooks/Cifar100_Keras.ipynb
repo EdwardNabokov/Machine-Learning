{
 "cells": [
  {
   "cell_type": "markdown",
   "metadata": {},
   "source": [
    "# CIFAR100 with Keras"
   ]
  },
  {
   "cell_type": "code",
   "execution_count": 1,
   "metadata": {},
   "outputs": [
    {
     "name": "stderr",
     "output_type": "stream",
     "text": [
      "Using TensorFlow backend.\n"
     ]
    }
   ],
   "source": [
    "import keras\n",
    "from keras.layers import  Dense, Dropout, Flatten, Conv2D, MaxPooling2D\n",
    "from keras.datasets import cifar100\n",
    "\n",
    "import numpy as np\n",
    "from matplotlib import pyplot as plt\n",
    "from collections import namedtuple"
   ]
  },
  {
   "cell_type": "code",
   "execution_count": 2,
   "metadata": {},
   "outputs": [],
   "source": [
    "(xtrain, ytrain), (xtest, ytest) = cifar100.load_data()"
   ]
  },
  {
   "cell_type": "code",
   "execution_count": 3,
   "metadata": {},
   "outputs": [
    {
     "name": "stdout",
     "output_type": "stream",
     "text": [
      "Train data: (50000, 32, 32, 3) (50000, 1)\n",
      "Test data: (10000, 32, 32, 3) (10000, 1)\n"
     ]
    }
   ],
   "source": [
    "print('Train data:', xtrain.shape, ytrain.shape)\n",
    "print('Test data:', xtest.shape, ytest.shape)"
   ]
  },
  {
   "cell_type": "code",
   "execution_count": 5,
   "metadata": {},
   "outputs": [],
   "source": [
    "def convert_rbg_to_grayscale(data: np.ndarray) -> np.ndarray:\n",
    "    return 0.3 * data[:,:,:,0] + 0.59 * data[:,:,:,1] + 0.11 * data[:,:,:,2]\n"
   ]
  },
  {
   "cell_type": "code",
   "execution_count": 6,
   "metadata": {},
   "outputs": [],
   "source": [
    "def reshape(data: np.ndarray, shape=None) -> np.ndarray:\n",
    "    \"\"\"\n",
    "    Each image is 1-dimensional array.\n",
    "    This function reshapes each image to 2-dimensional matrix,\n",
    "        where its size is defined with `shape`.\n",
    "        \n",
    "    Parameters\n",
    "    ----------\n",
    "    data: Data that must be reshaped\n",
    "    shape: Target shape of each image. \n",
    "        If not specified, it will reshape to Shape(28, 28)\n",
    "    \n",
    "    Returns\n",
    "    -------\n",
    "    np.ndarray\n",
    "    \"\"\"\n",
    "    if shape is None:\n",
    "        shape = Shape(32, 32)\n",
    "    \n",
    "    reshaped_data = data.reshape(data.shape[0], shape.rows, shape.columns, 1)\n",
    "    return reshaped_data"
   ]
  },
  {
   "cell_type": "code",
   "execution_count": 7,
   "metadata": {},
   "outputs": [],
   "source": [
    "def normalize(data: np.ndarray) -> np.ndarray:\n",
    "    \"\"\"\n",
    "    Normalize data:\n",
    "        - convert all values in a range within 0 and 1\n",
    "        - cast all values to float\n",
    "        \n",
    "    Parameters\n",
    "    ----------\n",
    "    data: Data for training\n",
    "    \n",
    "    Returns\n",
    "    -------\n",
    "    np.ndarray\n",
    "    \"\"\"\n",
    "    return data.astype('float32') / 255"
   ]
  },
  {
   "cell_type": "code",
   "execution_count": 8,
   "metadata": {},
   "outputs": [],
   "source": [
    "def encode_into_onehot(y: np.ndarray, number_classes: int):\n",
    "    \"\"\"\n",
    "    Convert an array of answers into onehot encoded matrix.\n",
    "    \n",
    "    Parameters\n",
    "    ----------\n",
    "    y: target array that will be convert to one hot encoded matrix\n",
    "    number_classes: total number of classes\n",
    "    \n",
    "    Returns\n",
    "    -------\n",
    "    np.ndarray, matrix with shape of (number_classes x number_classes)\n",
    "    \"\"\"\n",
    "\n",
    "    if number_classes < 1:\n",
    "        raise ValueError(f'Number of classes must be greater than 1, given {number_classes}')\n",
    "\n",
    "    one_hot_encoded_y = keras.utils.to_categorical(y, number_classes)\n",
    "    return one_hot_encoded_y"
   ]
  },
  {
   "cell_type": "code",
   "execution_count": 166,
   "metadata": {},
   "outputs": [],
   "source": [
    "def visualize_accuracy(history):\n",
    "    plt.plot(history.history['accuracy'])\n",
    "    plt.plot(history.history['val_accuracy'])\n",
    "    plt.title('Accuracy of the model')\n",
    "    plt.ylabel('accuracy')\n",
    "    plt.xlabel('epoch')\n",
    "    plt.legend(['train', 'test'], loc='upper left')\n",
    "    plt.show()\n",
    "\n",
    "def visualize_loss(history):\n",
    "    plt.plot(history.history['loss'])\n",
    "    plt.plot(history.history['val_loss'])\n",
    "    plt.title('Loss of the model')\n",
    "    plt.ylabel('loss')\n",
    "    plt.xlabel('epoch')\n",
    "    plt.legend(['train', 'test'], loc='upper left')\n",
    "    plt.show()"
   ]
  },
  {
   "cell_type": "markdown",
   "metadata": {},
   "source": [
    "## Current model that is being estimated"
   ]
  },
  {
   "cell_type": "code",
   "execution_count": 157,
   "metadata": {},
   "outputs": [],
   "source": [
    "# best accuracy 36.53 -- 50 epochs \n",
    "Shape = namedtuple('Size', ['rows', 'columns'])\n",
    "\n",
    "def build_keras_model(window_size: Shape, pool_size: Shape, input_size: tuple, number_classes: int):\n",
    "    \"\"\"\n",
    "    Build keras model based on Sequential\n",
    "    \n",
    "    Parameters\n",
    "    ----------\n",
    "    window_size: the sliding size of the pixels grid that is convolved. \n",
    "    pool_size: Window size which extract features.\n",
    "    number_classes: Total number of classes that must be distinguished.\n",
    "    \n",
    "    Returns\n",
    "    -------\n",
    "    Keras model which can be fitted and evaluated.\n",
    "    \"\"\"\n",
    "    model = keras.models.Sequential()\n",
    "    model.add(Conv2D(32,\n",
    "                     kernel_size=(3, 3),\n",
    "                     activation='relu',\n",
    "                     input_shape=input_size))\n",
    "    model.add(Conv2D(32,\n",
    "                     kernel_size=(3, 3),\n",
    "                     activation='relu'))\n",
    "    model.add(MaxPooling2D(pool_size=(2, 2)))\n",
    "    model.add(Dropout(0.3))\n",
    "    model.add(Conv2D(128,\n",
    "                     kernel_size=(3, 3), \n",
    "                     activation='relu'))\n",
    "    model.add(MaxPooling2D(pool_size=(2, 2)))\n",
    "    model.add(Dropout(0.3))\n",
    "    model.add(Conv2D(128,\n",
    "                     kernel_size=(3, 3),\n",
    "                     activation='relu'))\n",
    "    model.add(MaxPooling2D(pool_size=(2, 2)))\n",
    "    model.add(Dropout(0.4))\n",
    "    model.add(Flatten())\n",
    "    model.add(Dense(512, kernel_initializer='lecun_normal', activation='selu', use_bias=True))\n",
    "    model.add(Dense(512, kernel_initializer='lecun_normal', activation='selu', use_bias=True))\n",
    "    model.add(Dropout(0.5))\n",
    "    model.add(Dense(\n",
    "        units=number_classes,\n",
    "        activation='softmax'))\n",
    "    model.compile(loss=keras.losses.categorical_crossentropy,\n",
    "                  optimizer=keras.optimizers.Adadelta(),\n",
    "                  metrics=['accuracy'])\n",
    "    return model"
   ]
  },
  {
   "cell_type": "code",
   "execution_count": 158,
   "metadata": {},
   "outputs": [],
   "source": [
    "converted_xtrain = convert_rbg_to_grayscale(xtrain)\n",
    "converted_xtest = convert_rbg_to_grayscale(xtest)"
   ]
  },
  {
   "cell_type": "code",
   "execution_count": 159,
   "metadata": {},
   "outputs": [],
   "source": [
    "reshaped_xtrain = reshape(converted_xtrain, shape=Shape(32, 32))\n",
    "reshaped_xtest = reshape(converted_xtest, shape=Shape(32, 32))"
   ]
  },
  {
   "cell_type": "code",
   "execution_count": 160,
   "metadata": {},
   "outputs": [],
   "source": [
    "valid_xtrain = normalize(reshaped_xtrain)\n",
    "valid_xtest = normalize(reshaped_xtest)"
   ]
  },
  {
   "cell_type": "code",
   "execution_count": 161,
   "metadata": {},
   "outputs": [],
   "source": [
    "valid_ytrain = encode_into_onehot(ytrain, number_classes=100)\n",
    "valid_ytest = encode_into_onehot(ytest, number_classes=100)"
   ]
  },
  {
   "cell_type": "code",
   "execution_count": 162,
   "metadata": {},
   "outputs": [
    {
     "name": "stdout",
     "output_type": "stream",
     "text": [
      "Xtrain shape:  (50000, 32, 32, 1)\n",
      "Ytrain shape:  (50000, 100)\n",
      "Xtest shape:  (10000, 32, 32, 1)\n",
      "Ytest shape:  (10000, 100)\n"
     ]
    }
   ],
   "source": [
    "print('Xtrain shape: ', valid_xtrain.shape)\n",
    "print('Ytrain shape: ', valid_ytrain.shape)\n",
    "print('Xtest shape: ', valid_xtest.shape)\n",
    "print('Ytest shape: ', valid_ytest.shape)"
   ]
  },
  {
   "cell_type": "code",
   "execution_count": 163,
   "metadata": {},
   "outputs": [],
   "source": [
    "model = build_keras_model(\n",
    "    window_size=Shape(5, 5),\n",
    "    pool_size=Shape(2, 2),\n",
    "    input_size=(32, 32, 1),\n",
    "    number_classes=100)"
   ]
  },
  {
   "cell_type": "markdown",
   "metadata": {},
   "source": [
    "## Train"
   ]
  },
  {
   "cell_type": "code",
   "execution_count": 164,
   "metadata": {
    "scrolled": false
   },
   "outputs": [
    {
     "name": "stdout",
     "output_type": "stream",
     "text": [
      "Train on 50000 samples, validate on 10000 samples\n",
      "Epoch 1/50\n",
      "50000/50000 [==============================] - 47s 946us/step - loss: 4.5008 - accuracy: 0.0278 - val_loss: 4.2006 - val_accuracy: 0.0752\n",
      "Epoch 2/50\n",
      "50000/50000 [==============================] - 49s 982us/step - loss: 4.1098 - accuracy: 0.0815 - val_loss: 3.7425 - val_accuracy: 0.1506\n",
      "Epoch 3/50\n",
      "50000/50000 [==============================] - 50s 993us/step - loss: 3.7873 - accuracy: 0.1310 - val_loss: 3.4593 - val_accuracy: 0.1931\n",
      "Epoch 4/50\n",
      "50000/50000 [==============================] - 51s 1ms/step - loss: 3.5329 - accuracy: 0.1725 - val_loss: 3.2756 - val_accuracy: 0.2253\n",
      "Epoch 5/50\n",
      "50000/50000 [==============================] - 50s 1ms/step - loss: 3.3548 - accuracy: 0.2034 - val_loss: 3.3319 - val_accuracy: 0.2152\n",
      "Epoch 6/50\n",
      "50000/50000 [==============================] - 51s 1ms/step - loss: 3.2161 - accuracy: 0.2263 - val_loss: 3.1469 - val_accuracy: 0.2426\n",
      "Epoch 7/50\n",
      "50000/50000 [==============================] - 50s 1ms/step - loss: 3.1198 - accuracy: 0.2447 - val_loss: 2.8520 - val_accuracy: 0.2936\n",
      "Epoch 8/50\n",
      "50000/50000 [==============================] - 53s 1ms/step - loss: 3.0374 - accuracy: 0.2589 - val_loss: 2.7936 - val_accuracy: 0.3159\n",
      "Epoch 9/50\n",
      "50000/50000 [==============================] - 52s 1ms/step - loss: 2.9750 - accuracy: 0.2738 - val_loss: 2.7192 - val_accuracy: 0.3314\n",
      "Epoch 10/50\n",
      "50000/50000 [==============================] - 51s 1ms/step - loss: 2.9231 - accuracy: 0.2819 - val_loss: 2.6793 - val_accuracy: 0.3344\n",
      "Epoch 11/50\n",
      "50000/50000 [==============================] - 54s 1ms/step - loss: 2.8682 - accuracy: 0.2903 - val_loss: 2.6888 - val_accuracy: 0.3348\n",
      "Epoch 12/50\n",
      "50000/50000 [==============================] - 51s 1ms/step - loss: 2.8453 - accuracy: 0.2959 - val_loss: 2.6706 - val_accuracy: 0.3364\n",
      "Epoch 13/50\n",
      "50000/50000 [==============================] - 51s 1ms/step - loss: 2.7987 - accuracy: 0.3054 - val_loss: 2.5822 - val_accuracy: 0.3565\n",
      "Epoch 14/50\n",
      "50000/50000 [==============================] - 51s 1ms/step - loss: 2.7772 - accuracy: 0.3078 - val_loss: 2.5965 - val_accuracy: 0.3513\n",
      "Epoch 15/50\n",
      "50000/50000 [==============================] - 50s 1ms/step - loss: 2.7520 - accuracy: 0.3129 - val_loss: 2.4742 - val_accuracy: 0.3739\n",
      "Epoch 16/50\n",
      "50000/50000 [==============================] - 50s 1ms/step - loss: 2.7228 - accuracy: 0.3163 - val_loss: 2.5312 - val_accuracy: 0.3672\n",
      "Epoch 17/50\n",
      "50000/50000 [==============================] - 50s 1ms/step - loss: 2.7031 - accuracy: 0.3247 - val_loss: 2.5153 - val_accuracy: 0.3695\n",
      "Epoch 18/50\n",
      "50000/50000 [==============================] - 51s 1ms/step - loss: 2.6737 - accuracy: 0.3298 - val_loss: 2.4323 - val_accuracy: 0.3859\n",
      "Epoch 19/50\n",
      "50000/50000 [==============================] - 48s 951us/step - loss: 2.6570 - accuracy: 0.3295 - val_loss: 2.4635 - val_accuracy: 0.3808\n",
      "Epoch 20/50\n",
      "50000/50000 [==============================] - 48s 965us/step - loss: 2.6438 - accuracy: 0.3360 - val_loss: 2.4619 - val_accuracy: 0.3777\n",
      "Epoch 21/50\n",
      "50000/50000 [==============================] - 48s 954us/step - loss: 2.6259 - accuracy: 0.3396 - val_loss: 2.3878 - val_accuracy: 0.3985\n",
      "Epoch 22/50\n",
      "50000/50000 [==============================] - 47s 945us/step - loss: 2.6076 - accuracy: 0.3448 - val_loss: 2.4080 - val_accuracy: 0.3921\n",
      "Epoch 23/50\n",
      "50000/50000 [==============================] - 49s 973us/step - loss: 2.5929 - accuracy: 0.3471 - val_loss: 2.5158 - val_accuracy: 0.3736\n",
      "Epoch 24/50\n",
      "50000/50000 [==============================] - 48s 958us/step - loss: 2.5755 - accuracy: 0.3498 - val_loss: 2.3405 - val_accuracy: 0.4008\n",
      "Epoch 25/50\n",
      "50000/50000 [==============================] - 47s 937us/step - loss: 2.5620 - accuracy: 0.3505 - val_loss: 2.3666 - val_accuracy: 0.3978\n",
      "Epoch 26/50\n",
      "50000/50000 [==============================] - 48s 952us/step - loss: 2.5524 - accuracy: 0.3516 - val_loss: 2.3850 - val_accuracy: 0.3938\n",
      "Epoch 27/50\n",
      "50000/50000 [==============================] - 47s 947us/step - loss: 2.5389 - accuracy: 0.3579 - val_loss: 2.3993 - val_accuracy: 0.3941\n",
      "Epoch 28/50\n",
      "50000/50000 [==============================] - 48s 957us/step - loss: 2.5233 - accuracy: 0.3619 - val_loss: 2.2938 - val_accuracy: 0.4124\n",
      "Epoch 29/50\n",
      "50000/50000 [==============================] - 48s 961us/step - loss: 2.5146 - accuracy: 0.3603 - val_loss: 2.3391 - val_accuracy: 0.4050\n",
      "Epoch 30/50\n",
      "50000/50000 [==============================] - 48s 952us/step - loss: 2.5179 - accuracy: 0.3563 - val_loss: 2.2989 - val_accuracy: 0.4112\n",
      "Epoch 31/50\n",
      "50000/50000 [==============================] - 48s 960us/step - loss: 2.4990 - accuracy: 0.3630 - val_loss: 2.4006 - val_accuracy: 0.3913\n",
      "Epoch 32/50\n",
      "50000/50000 [==============================] - 48s 966us/step - loss: 2.5017 - accuracy: 0.3620 - val_loss: 2.3170 - val_accuracy: 0.4063\n",
      "Epoch 33/50\n",
      "50000/50000 [==============================] - 51s 1ms/step - loss: 2.4867 - accuracy: 0.3637 - val_loss: 2.2826 - val_accuracy: 0.4089\n",
      "Epoch 34/50\n",
      "50000/50000 [==============================] - 48s 957us/step - loss: 2.4792 - accuracy: 0.3651 - val_loss: 2.2574 - val_accuracy: 0.4179\n",
      "Epoch 35/50\n",
      "50000/50000 [==============================] - 52s 1ms/step - loss: 2.4748 - accuracy: 0.3676 - val_loss: 2.3725 - val_accuracy: 0.3961\n",
      "Epoch 36/50\n",
      "50000/50000 [==============================] - 51s 1ms/step - loss: 2.4588 - accuracy: 0.3711 - val_loss: 2.3779 - val_accuracy: 0.3979\n",
      "Epoch 37/50\n",
      "50000/50000 [==============================] - 49s 985us/step - loss: 2.4586 - accuracy: 0.3721 - val_loss: 2.2823 - val_accuracy: 0.4138\n",
      "Epoch 38/50\n",
      "50000/50000 [==============================] - 52s 1ms/step - loss: 2.4510 - accuracy: 0.3696 - val_loss: 2.2698 - val_accuracy: 0.4162\n",
      "Epoch 39/50\n",
      "50000/50000 [==============================] - 50s 1ms/step - loss: 2.4371 - accuracy: 0.3758 - val_loss: 2.3163 - val_accuracy: 0.4100\n",
      "Epoch 40/50\n",
      "50000/50000 [==============================] - 49s 978us/step - loss: 2.4387 - accuracy: 0.3768 - val_loss: 2.3804 - val_accuracy: 0.3920\n",
      "Epoch 41/50\n",
      "50000/50000 [==============================] - 49s 990us/step - loss: 2.4319 - accuracy: 0.3759 - val_loss: 2.2445 - val_accuracy: 0.4206\n",
      "Epoch 42/50\n",
      "50000/50000 [==============================] - 50s 995us/step - loss: 2.4334 - accuracy: 0.3756 - val_loss: 2.3078 - val_accuracy: 0.4132\n",
      "Epoch 43/50\n",
      "50000/50000 [==============================] - 49s 971us/step - loss: 2.4155 - accuracy: 0.3811 - val_loss: 2.2492 - val_accuracy: 0.4270\n",
      "Epoch 44/50\n",
      "50000/50000 [==============================] - 55s 1ms/step - loss: 2.4172 - accuracy: 0.3792 - val_loss: 2.2264 - val_accuracy: 0.4284\n",
      "Epoch 45/50\n",
      "50000/50000 [==============================] - 52s 1ms/step - loss: 2.4075 - accuracy: 0.3813 - val_loss: 2.2739 - val_accuracy: 0.4163\n",
      "Epoch 46/50\n",
      "50000/50000 [==============================] - 48s 953us/step - loss: 2.4052 - accuracy: 0.3831 - val_loss: 2.3187 - val_accuracy: 0.4112\n",
      "Epoch 47/50\n",
      "50000/50000 [==============================] - 56s 1ms/step - loss: 2.4023 - accuracy: 0.3826 - val_loss: 2.2944 - val_accuracy: 0.4132\n",
      "Epoch 48/50\n",
      "50000/50000 [==============================] - 53s 1ms/step - loss: 2.4005 - accuracy: 0.3841 - val_loss: 2.2656 - val_accuracy: 0.4203\n",
      "Epoch 49/50\n",
      "50000/50000 [==============================] - 50s 1ms/step - loss: 2.4005 - accuracy: 0.3806 - val_loss: 2.2368 - val_accuracy: 0.4221\n",
      "Epoch 50/50\n",
      "50000/50000 [==============================] - 53s 1ms/step - loss: 2.3856 - accuracy: 0.3865 - val_loss: 2.1995 - val_accuracy: 0.4322\n"
     ]
    }
   ],
   "source": [
    "history = model.fit(valid_xtrain, valid_ytrain,\n",
    "      batch_size=128,\n",
    "      epochs=50,\n",
    "      validation_data=(valid_xtest, valid_ytest),\n",
    "      verbose=1,\n",
    ")"
   ]
  },
  {
   "cell_type": "code",
   "execution_count": 165,
   "metadata": {},
   "outputs": [
    {
     "name": "stdout",
     "output_type": "stream",
     "text": [
      "Test loss: 219.95008457183837\n",
      "Test accuracy: 43.220001459121704\n"
     ]
    }
   ],
   "source": [
    "loss, accuracy = model.evaluate(valid_xtest, valid_ytest, verbose=0)\n",
    "print('Test loss:', loss * 100)\n",
    "print('Test accuracy:', accuracy * 100)"
   ]
  },
  {
   "cell_type": "code",
   "execution_count": 167,
   "metadata": {},
   "outputs": [
    {
     "data": {
      "image/png": "[encoded data removed]",
      "text/plain": [
       "<Figure size 432x288 with 1 Axes>"
      ]
     },
     "metadata": {
      "needs_background": "light"
     },
     "output_type": "display_data"
    }
   ],
   "source": [
    "visualize_accuracy(history)"
   ]
  },
  {
   "cell_type": "code",
   "execution_count": 168,
   "metadata": {},
   "outputs": [
    {
     "data": {
      "image/png": "[encoded data removed]",
      "text/plain": [
       "<Figure size 432x288 with 1 Axes>"
      ]
     },
     "metadata": {
      "needs_background": "light"
     },
     "output_type": "display_data"
    }
   ],
   "source": [
    "visualize_loss(history)"
   ]
  },
  {
   "cell_type": "markdown",
   "metadata": {},
   "source": [
    "#  Attempts & scores"
   ]
  },
  {
   "cell_type": "markdown",
   "metadata": {},
   "source": [
    "## Best accuracy 29.879 % -- 25 epochs\n",
    "\n",
    "- 3 convolution layers\n",
    "- 3 max poolings\n",
    "- 2 dropouts to avoid overfitting\n",
    "- 2 dense layers\n",
    "- 1 softmax layer for predictions"
   ]
  },
  {
   "cell_type": "code",
   "execution_count": null,
   "metadata": {},
   "outputs": [],
   "source": [
    "#  best accuracy 29.879 % -- 25 epochs\n",
    "\n",
    "def build_keras_model(window_size: Shape, pool_size: Shape, input_size: tuple, number_classes: int):\n",
    "    \"\"\"\n",
    "    Build keras model based on Sequential\n",
    "    \n",
    "    Parameters\n",
    "    ----------\n",
    "    window_size: the sliding size of the pixels grid that is convolved. \n",
    "    pool_size: Window size which extract features.\n",
    "    number_classes: Total number of classes that must be distinguished.\n",
    "    \n",
    "    Returns\n",
    "    -------\n",
    "    Keras model which can be fitted and evaluated.\n",
    "    \"\"\"\n",
    "    model = keras.models.Sequential()\n",
    "    model.add(Conv2D(32,\n",
    "                     kernel_size=tuple(window_size),\n",
    "                     activation='relu',\n",
    "                     input_shape=input_size))\n",
    "    model.add(MaxPooling2D(pool_size=(2, 2)))\n",
    "    model.add(Conv2D(64, \n",
    "                     kernel_size=(3, 3), \n",
    "                     activation='relu'))\n",
    "    model.add(MaxPooling2D(pool_size=(3, 3)))\n",
    "    model.add(Conv2D(128,\n",
    "                     kernel_size=(3, 3),\n",
    "                     activation='relu'))\n",
    "    model.add(MaxPooling2D(pool_size=(2, 2)))\n",
    "    model.add(Dropout(0.3))\n",
    "    model.add(Flatten())\n",
    "    model.add(Dense(256, activation='relu', use_bias=True))\n",
    "    model.add(Dense(128, activation='relu', use_bias=True))\n",
    "    model.add(Dropout(0.5))\n",
    "    model.add(Dense(\n",
    "        units=number_classes,\n",
    "        activation='softmax'))\n",
    "    model.compile(loss=keras.losses.categorical_crossentropy,\n",
    "                  optimizer=keras.optimizers.Adadelta(),\n",
    "                  metrics=['accuracy'])\n",
    "    return model"
   ]
  },
  {
   "cell_type": "markdown",
   "metadata": {},
   "source": [
    "## Best accuracy 31.52 % -- 35 epochs\n",
    "\n",
    "- increase number of epochs (25 -> 35)"
   ]
  },
  {
   "cell_type": "code",
   "execution_count": null,
   "metadata": {},
   "outputs": [],
   "source": [
    "# best accuracy 31.520000100135803 -- 35 epochs\n",
    "\n",
    "def build_keras_model(window_size: Shape, pool_size: Shape, input_size: tuple, number_classes: int):\n",
    "    \"\"\"\n",
    "    Build keras model based on Sequential\n",
    "    \n",
    "    Parameters\n",
    "    ----------\n",
    "    window_size: the sliding size of the pixels grid that is convolved. \n",
    "    pool_size: Window size which extract features.\n",
    "    number_classes: Total number of classes that must be distinguished.\n",
    "    \n",
    "    Returns\n",
    "    -------\n",
    "    Keras model which can be fitted and evaluated.\n",
    "    \"\"\"\n",
    "    model = keras.models.Sequential()\n",
    "    model.add(Conv2D(32,\n",
    "                     kernel_size=(3, 3),\n",
    "                     activation='relu',\n",
    "                     input_shape=input_size))\n",
    "    model.add(MaxPooling2D(pool_size=(2, 2)))\n",
    "    model.add(Conv2D(64, \n",
    "                     kernel_size=(3, 3), \n",
    "                     activation='relu'))\n",
    "    model.add(MaxPooling2D(pool_size=(3, 3)))\n",
    "    model.add(Dropout(0.3))\n",
    "    model.add(Conv2D(128,\n",
    "                     kernel_size=(3, 3),\n",
    "                     activation='relu'))\n",
    "    model.add(MaxPooling2D(pool_size=(2, 2)))\n",
    "    model.add(Dropout(0.3))\n",
    "    model.add(Flatten())\n",
    "    model.add(Dense(256, activation='relu', use_bias=True))\n",
    "    model.add(Dense(128, activation='relu', use_bias=True))\n",
    "    model.add(Dropout(0.5))\n",
    "    model.add(Dense(\n",
    "        units=number_classes,\n",
    "        activation='softmax'))\n",
    "    model.compile(loss=keras.losses.categorical_crossentropy,\n",
    "                  optimizer=keras.optimizers.Adadelta(),\n",
    "                  metrics=['accuracy'])\n",
    "    return model"
   ]
  },
  {
   "cell_type": "markdown",
   "metadata": {},
   "source": [
    "## Best accuracy 34.07 % -- 35 epochs\n",
    "\n",
    "- set dropouts with lesser values to reduce underfitting (0.3 -> 0.25)"
   ]
  },
  {
   "cell_type": "code",
   "execution_count": null,
   "metadata": {},
   "outputs": [],
   "source": [
    "# best accuracy: 34.07 -- 35 epochs\n",
    "\n",
    "# current attempt: \n",
    "\n",
    "def build_keras_model(window_size: Shape, pool_size: Shape, input_size: tuple, number_classes: int):\n",
    "    \"\"\"\n",
    "    Build keras model based on Sequential\n",
    "    \n",
    "    Parameters\n",
    "    ----------\n",
    "    window_size: the sliding size of the pixels grid that is convolved. \n",
    "    pool_size: Window size which extract features.\n",
    "    number_classes: Total number of classes that must be distinguished.\n",
    "    \n",
    "    Returns\n",
    "    -------\n",
    "    Keras model which can be fitted and evaluated.\n",
    "    \"\"\"\n",
    "    model = keras.models.Sequential()\n",
    "    model.add(Conv2D(32,\n",
    "                     kernel_size=(3, 3),\n",
    "                     activation='relu',\n",
    "                     input_shape=input_size))\n",
    "    model.add(MaxPooling2D(pool_size=(2, 2)))\n",
    "    model.add(Dropout(0.25))\n",
    "    model.add(Conv2D(64, \n",
    "                     kernel_size=(3, 3), \n",
    "                     activation='relu'))\n",
    "    model.add(MaxPooling2D(pool_size=(2, 2)))\n",
    "    model.add(Dropout(0.25))\n",
    "    model.add(Conv2D(128,\n",
    "                     kernel_size=(3, 3),\n",
    "                     activation='relu'))\n",
    "    model.add(MaxPooling2D(pool_size=(2, 2)))\n",
    "    model.add(Dropout(0.3))\n",
    "    model.add(Flatten())\n",
    "    model.add(Dense(256, activation='relu', use_bias=True))\n",
    "    model.add(Dense(128, activation='relu', use_bias=True))\n",
    "    model.add(Dropout(0.5))\n",
    "    model.add(Dense(\n",
    "        units=number_classes,\n",
    "        activation='softmax'))\n",
    "    model.compile(loss=keras.losses.categorical_crossentropy,\n",
    "                  optimizer=keras.optimizers.Adadelta(),\n",
    "                  metrics=['accuracy'])\n",
    "    return model"
   ]
  },
  {
   "cell_type": "markdown",
   "metadata": {},
   "source": [
    "## Best accuracy 35.85 % -- 50 epochs\n",
    "\n",
    "- set dropouts with lesser values to reduce underfitting (0.25 -> 0.2)\n",
    "- increase number of epochs (35 -> 50)"
   ]
  },
  {
   "cell_type": "code",
   "execution_count": null,
   "metadata": {},
   "outputs": [],
   "source": [
    "# best accuracy - 35.85 - 50 epochs \n",
    "\n",
    "def build_keras_model(window_size: Shape, pool_size: Shape, input_size: tuple, number_classes: int):\n",
    "    \"\"\"\n",
    "    Build keras model based on Sequential\n",
    "    \n",
    "    Parameters\n",
    "    ----------\n",
    "    window_size: the sliding size of the pixels grid that is convolved. \n",
    "    pool_size: Window size which extract features.\n",
    "    number_classes: Total number of classes that must be distinguished.\n",
    "    \n",
    "    Returns\n",
    "    -------\n",
    "    Keras model which can be fitted and evaluated.\n",
    "    \"\"\"\n",
    "    model = keras.models.Sequential()\n",
    "    model.add(Conv2D(32,\n",
    "                     kernel_size=(3, 3),\n",
    "                     activation='relu',\n",
    "                     input_shape=input_size))\n",
    "    model.add(MaxPooling2D(pool_size=(2, 2)))\n",
    "    model.add(Dropout(0.2))\n",
    "    model.add(Conv2D(64, \n",
    "                     kernel_size=(3, 3), \n",
    "                     activation='relu'))\n",
    "    model.add(MaxPooling2D(pool_size=(2, 2)))\n",
    "    model.add(Dropout(0.2))\n",
    "    model.add(Conv2D(128,\n",
    "                     kernel_size=(3, 3),\n",
    "                     activation='relu'))\n",
    "    model.add(MaxPooling2D(pool_size=(2, 2)))\n",
    "    model.add(Dropout(0.3))\n",
    "    model.add(Flatten())\n",
    "    model.add(Dense(256, activation='relu', use_bias=True))\n",
    "    model.add(Dense(128, activation='relu', use_bias=True))\n",
    "    model.add(Dropout(0.5))\n",
    "    model.add(Dense(\n",
    "        units=number_classes,\n",
    "        activation='softmax'))\n",
    "    model.compile(loss=keras.losses.categorical_crossentropy,\n",
    "                  optimizer=keras.optimizers.Adadelta(),\n",
    "                  metrics=['accuracy'])\n",
    "    return model"
   ]
  },
  {
   "cell_type": "markdown",
   "metadata": {},
   "source": [
    "## Best accuracy 36.19 % -- 50 epochs\n",
    "\n",
    "- change optimizer for model (Adadelta -> Adamax)\n",
    "- add one more dense layer with 92 neurons"
   ]
  },
  {
   "cell_type": "code",
   "execution_count": null,
   "metadata": {},
   "outputs": [],
   "source": [
    "# best accuracy 36.19000017642975 -- 50 epochs \n",
    "Shape = namedtuple('Size', ['rows', 'columns'])\n",
    "\n",
    "def build_keras_model(window_size: Shape, pool_size: Shape, input_size: tuple, number_classes: int):\n",
    "    \"\"\"\n",
    "    Build keras model based on Sequential\n",
    "    \n",
    "    Parameters\n",
    "    ----------\n",
    "    window_size: the sliding size of the pixels grid that is convolved. \n",
    "    pool_size: Window size which extract features.\n",
    "    number_classes: Total number of classes that must be distinguished.\n",
    "    \n",
    "    Returns\n",
    "    -------\n",
    "    Keras model which can be fitted and evaluated.\n",
    "    \"\"\"\n",
    "    model = keras.models.Sequential()\n",
    "    model.add(Conv2D(32,\n",
    "                     kernel_size=(3, 3),\n",
    "                     activation='relu',\n",
    "                     input_shape=input_size))\n",
    "    model.add(MaxPooling2D(pool_size=(2, 2)))\n",
    "    model.add(Dropout(0.2))\n",
    "    model.add(Conv2D(64, \n",
    "                     kernel_size=(3, 3), \n",
    "                     activation='relu'))\n",
    "    model.add(MaxPooling2D(pool_size=(2, 2)))\n",
    "    model.add(Dropout(0.2))\n",
    "    model.add(Conv2D(128,\n",
    "                     kernel_size=(3, 3),\n",
    "                     activation='relu'))\n",
    "    model.add(MaxPooling2D(pool_size=(2, 2)))\n",
    "    model.add(Dropout(0.4))\n",
    "    model.add(Flatten())\n",
    "    model.add(Dense(256, activation='relu', use_bias=True))\n",
    "    model.add(Dense(128, activation='relu', use_bias=True))\n",
    "    model.add(Dense(92, activation='relu', use_bias=True))\n",
    "    model.add(Dropout(0.5))\n",
    "    model.add(Dense(\n",
    "        units=number_classes,\n",
    "        activation='softmax'))\n",
    "    model.compile(loss=keras.losses.categorical_crossentropy,\n",
    "                  optimizer=keras.optimizers.Adamax(),\n",
    "                  metrics=['accuracy'])\n",
    "    return model"
   ]
  },
  {
   "cell_type": "markdown",
   "metadata": {},
   "source": [
    "## Best accuracy 36.53 % -- 50 epochs\n",
    "\n",
    "- change optimizer for model (Adamax -> Adam)\n",
    "- remove dense layer with 92 neurons"
   ]
  },
  {
   "cell_type": "code",
   "execution_count": null,
   "metadata": {},
   "outputs": [],
   "source": [
    "# best accuracy 36.53 -- 50 epochs \n",
    "Shape = namedtuple('Size', ['rows', 'columns'])\n",
    "\n",
    "def build_keras_model(window_size: Shape, pool_size: Shape, input_size: tuple, number_classes: int):\n",
    "    \"\"\"\n",
    "    Build keras model based on Sequential\n",
    "    \n",
    "    Parameters\n",
    "    ----------\n",
    "    window_size: the sliding size of the pixels grid that is convolved. \n",
    "    pool_size: Window size which extract features.\n",
    "    number_classes: Total number of classes that must be distinguished.\n",
    "    \n",
    "    Returns\n",
    "    -------\n",
    "    Keras model which can be fitted and evaluated.\n",
    "    \"\"\"\n",
    "    model = keras.models.Sequential()\n",
    "    model.add(Conv2D(32,\n",
    "                     kernel_size=(3, 3),\n",
    "                     activation='relu',\n",
    "                     input_shape=input_size))\n",
    "    model.add(MaxPooling2D(pool_size=(2, 2)))\n",
    "    model.add(Dropout(0.2))\n",
    "    model.add(Conv2D(64, \n",
    "                     kernel_size=(3, 3), \n",
    "                     activation='relu'))\n",
    "    model.add(MaxPooling2D(pool_size=(2, 2)))\n",
    "    model.add(Dropout(0.2))\n",
    "    model.add(Conv2D(128,\n",
    "                     kernel_size=(3, 3),\n",
    "                     activation='relu'))\n",
    "    model.add(MaxPooling2D(pool_size=(2, 2)))\n",
    "    model.add(Dropout(0.3))\n",
    "    model.add(Flatten())\n",
    "    model.add(Dense(256, activation='relu', use_bias=True))\n",
    "    model.add(Dense(128, activation='relu', use_bias=True))\n",
    "    model.add(Dropout(0.5))\n",
    "    model.add(Dense(\n",
    "        units=number_classes,\n",
    "        activation='softmax'))\n",
    "    model.compile(loss=keras.losses.categorical_crossentropy,\n",
    "                  optimizer=keras.optimizers.Adam(),\n",
    "                  metrics=['accuracy'])\n",
    "    return model"
   ]
  },
  {
   "cell_type": "markdown",
   "metadata": {},
   "source": [
    "## Best accuracy 41.30 % -- 50 epochs\n",
    "\n",
    "- add one more convolution layer with 32 units\n",
    "- add max pooling after the layer\n",
    "- add dense layer with 128 neurons\n",
    "- set initial value for layers with lecun normal\n",
    "- use selu activation"
   ]
  },
  {
   "cell_type": "code",
   "execution_count": null,
   "metadata": {},
   "outputs": [],
   "source": [
    "# best accuracy 41.30 -- 50 epochs \n",
    "Shape = namedtuple('Size', ['rows', 'columns'])\n",
    "\n",
    "def build_keras_model(window_size: Shape, pool_size: Shape, input_size: tuple, number_classes: int):\n",
    "    \"\"\"\n",
    "    Build keras model based on Sequential\n",
    "    \n",
    "    Parameters\n",
    "    ----------\n",
    "    window_size: the sliding size of the pixels grid that is convolved. \n",
    "    pool_size: Window size which extract features.\n",
    "    number_classes: Total number of classes that must be distinguished.\n",
    "    \n",
    "    Returns\n",
    "    -------\n",
    "    Keras model which can be fitted and evaluated.\n",
    "    \"\"\"\n",
    "    model = keras.models.Sequential()\n",
    "    model.add(Conv2D(32,\n",
    "                     kernel_size=(3, 3),\n",
    "                     activation='relu',\n",
    "                     input_shape=input_size))\n",
    "    model.add(Conv2D(32,\n",
    "                     kernel_size=(3, 3),\n",
    "                     activation='relu'))\n",
    "    model.add(MaxPooling2D(pool_size=(2, 2)))\n",
    "    model.add(Conv2D(64,\n",
    "                     kernel_size=(3, 3), \n",
    "                     activation='relu'))\n",
    "    model.add(MaxPooling2D(pool_size=(2, 2)))\n",
    "    model.add(Dropout(0.2))\n",
    "    model.add(Conv2D(128,\n",
    "                     kernel_size=(3, 3),\n",
    "                     activation='relu'))\n",
    "    model.add(MaxPooling2D(pool_size=(2, 2)))\n",
    "    model.add(Dropout(0.4))\n",
    "    model.add(Flatten())\n",
    "    model.add(Dense(256, kernel_initializer='lecun_normal', activation='selu', use_bias=True))\n",
    "    model.add(Dense(128, kernel_initializer='lecun_normal', activation='selu', use_bias=True))\n",
    "    model.add(Dense(128, kernel_initializer='lecun_normal', activation='selu', use_bias=True))\n",
    "    model.add(Dropout(0.5))\n",
    "    model.add(Dense(\n",
    "        units=number_classes,\n",
    "        activation='softmax'))\n",
    "    model.compile(loss=keras.losses.categorical_crossentropy,\n",
    "                  optimizer=keras.optimizers.Adamax(),\n",
    "                  metrics=['accuracy'])\n",
    "    return model"
   ]
  },
  {
   "cell_type": "markdown",
   "metadata": {},
   "source": [
    "## Best accuracy 42.34 % -- 50 epochs\n",
    "\n",
    "- remove one dense layer with 128 neurons"
   ]
  },
  {
   "cell_type": "code",
   "execution_count": null,
   "metadata": {},
   "outputs": [],
   "source": [
    "# best accuracy 42.34 -- 50 epochs \n",
    "Shape = namedtuple('Size', ['rows', 'columns'])\n",
    "\n",
    "def build_keras_model(window_size: Shape, pool_size: Shape, input_size: tuple, number_classes: int):\n",
    "    \"\"\"\n",
    "    Build keras model based on Sequential\n",
    "    \n",
    "    Parameters\n",
    "    ----------\n",
    "    window_size: the sliding size of the pixels grid that is convolved. \n",
    "    pool_size: Window size which extract features.\n",
    "    number_classes: Total number of classes that must be distinguished.\n",
    "    \n",
    "    Returns\n",
    "    -------\n",
    "    Keras model which can be fitted and evaluated.\n",
    "    \"\"\"\n",
    "    model = keras.models.Sequential()\n",
    "    model.add(Conv2D(32,\n",
    "                     kernel_size=(3, 3),\n",
    "                     activation='relu',\n",
    "                     input_shape=input_size))\n",
    "    model.add(Conv2D(32,\n",
    "                     kernel_size=(3, 3),\n",
    "                     activation='relu'))\n",
    "    model.add(MaxPooling2D(pool_size=(2, 2)))\n",
    "    model.add(Conv2D(64,\n",
    "                     kernel_size=(3, 3), \n",
    "                     activation='relu'))\n",
    "    model.add(MaxPooling2D(pool_size=(2, 2)))\n",
    "    model.add(Dropout(0.2))\n",
    "    model.add(Conv2D(128,\n",
    "                     kernel_size=(3, 3),\n",
    "                     activation='relu'))\n",
    "    model.add(MaxPooling2D(pool_size=(2, 2)))\n",
    "    model.add(Dropout(0.4))\n",
    "    model.add(Flatten())\n",
    "    model.add(Dense(256, kernel_initializer='lecun_normal', activation='selu', use_bias=True))\n",
    "    model.add(Dense(128, kernel_initializer='lecun_normal', activation='selu', use_bias=True))\n",
    "    model.add(Dropout(0.5))\n",
    "    model.add(Dense(\n",
    "        units=number_classes,\n",
    "        activation='softmax'))\n",
    "    model.compile(loss=keras.losses.categorical_crossentropy,\n",
    "                  optimizer=keras.optimizers.Adamax(),\n",
    "                  metrics=['accuracy'])\n",
    "    return model"
   ]
  },
  {
   "cell_type": "markdown",
   "metadata": {},
   "source": [
    "## Best accuracy 42.63 % -- 50 epochs\n",
    "\n",
    "- increase number of the first dense layer unit (256 -> 512)"
   ]
  },
  {
   "cell_type": "code",
   "execution_count": null,
   "metadata": {},
   "outputs": [],
   "source": [
    "# best accuracy 42.63 -- 50 epochs \n",
    "Shape = namedtuple('Size', ['rows', 'columns'])\n",
    "\n",
    "def build_keras_model(window_size: Shape, pool_size: Shape, input_size: tuple, number_classes: int):\n",
    "    \"\"\"\n",
    "    Build keras model based on Sequential\n",
    "    \n",
    "    Parameters\n",
    "    ----------\n",
    "    window_size: the sliding size of the pixels grid that is convolved. \n",
    "    pool_size: Window size which extract features.\n",
    "    number_classes: Total number of classes that must be distinguished.\n",
    "    \n",
    "    Returns\n",
    "    -------\n",
    "    Keras model which can be fitted and evaluated.\n",
    "    \"\"\"\n",
    "    model = keras.models.Sequential()\n",
    "    model.add(Conv2D(32,\n",
    "                     kernel_size=(3, 3),\n",
    "                     activation='relu',\n",
    "                     input_shape=input_size))\n",
    "    model.add(Conv2D(32,\n",
    "                     kernel_size=(3, 3),\n",
    "                     activation='relu'))\n",
    "    model.add(MaxPooling2D(pool_size=(2, 2)))\n",
    "    model.add(Conv2D(64,\n",
    "                     kernel_size=(3, 3), \n",
    "                     activation='relu'))\n",
    "    model.add(MaxPooling2D(pool_size=(2, 2)))\n",
    "    model.add(Dropout(0.2))\n",
    "    model.add(Conv2D(128,\n",
    "                     kernel_size=(3, 3),\n",
    "                     activation='relu'))\n",
    "    model.add(MaxPooling2D(pool_size=(2, 2)))\n",
    "    model.add(Dropout(0.4))\n",
    "    model.add(Flatten())\n",
    "    model.add(Dense(512, kernel_initializer='lecun_normal', activation='selu', use_bias=True))\n",
    "    model.add(Dense(256, kernel_initializer='lecun_normal', activation='selu', use_bias=True))\n",
    "    model.add(Dropout(0.5))\n",
    "    model.add(Dense(\n",
    "        units=number_classes,\n",
    "        activation='softmax'))\n",
    "    model.compile(loss=keras.losses.categorical_crossentropy,\n",
    "                  optimizer=keras.optimizers.Adamax(),\n",
    "                  metrics=['accuracy'])\n",
    "    return model"
   ]
  },
  {
   "cell_type": "markdown",
   "metadata": {},
   "source": [
    "## Best accuracy 43.22 % -- 50 epochs\n",
    "\n",
    "- swap convolution layer with 64 units -> 128 units\n",
    "- swap dense layer with 256 neurons -> 512 neurons\n",
    "- change optimizer for model (Adamax -> Adadelta)"
   ]
  },
  {
   "cell_type": "code",
   "execution_count": null,
   "metadata": {},
   "outputs": [],
   "source": [
    "# best accuracy 43.22 -- 50 epochs \n",
    "Shape = namedtuple('Size', ['rows', 'columns'])\n",
    "\n",
    "def build_keras_model(window_size: Shape, pool_size: Shape, input_size: tuple, number_classes: int):\n",
    "    \"\"\"\n",
    "    Build keras model based on Sequential\n",
    "    \n",
    "    Parameters\n",
    "    ----------\n",
    "    window_size: the sliding size of the pixels grid that is convolved. \n",
    "    pool_size: Window size which extract features.\n",
    "    number_classes: Total number of classes that must be distinguished.\n",
    "    \n",
    "    Returns\n",
    "    -------\n",
    "    Keras model which can be fitted and evaluated.\n",
    "    \"\"\"\n",
    "    model = keras.models.Sequential()\n",
    "    model.add(Conv2D(32,\n",
    "                     kernel_size=(3, 3),\n",
    "                     activation='relu',\n",
    "                     input_shape=input_size))\n",
    "    model.add(Conv2D(32,\n",
    "                     kernel_size=(3, 3),\n",
    "                     activation='relu'))\n",
    "    model.add(MaxPooling2D(pool_size=(2, 2)))\n",
    "    model.add(Dropout(0.3))\n",
    "    model.add(Conv2D(128,\n",
    "                     kernel_size=(3, 3), \n",
    "                     activation='relu'))\n",
    "    model.add(MaxPooling2D(pool_size=(2, 2)))\n",
    "    model.add(Dropout(0.3))\n",
    "    model.add(Conv2D(128,\n",
    "                     kernel_size=(3, 3),\n",
    "                     activation='relu'))\n",
    "    model.add(MaxPooling2D(pool_size=(2, 2)))\n",
    "    model.add(Dropout(0.4))\n",
    "    model.add(Flatten())\n",
    "    model.add(Dense(512, kernel_initializer='lecun_normal', activation='selu', use_bias=True))\n",
    "    model.add(Dense(512, kernel_initializer='lecun_normal', activation='selu', use_bias=True))\n",
    "    model.add(Dropout(0.5))\n",
    "    model.add(Dense(\n",
    "        units=number_classes,\n",
    "        activation='softmax'))\n",
    "    model.compile(loss=keras.losses.categorical_crossentropy,\n",
    "                  optimizer=keras.optimizers.Adadelta(),\n",
    "                  metrics=['accuracy'])\n",
    "    return model"
   ]
  },
  {
   "cell_type": "code",
   "execution_count": null,
   "metadata": {},
   "outputs": [],
   "source": []
  }
 ],
 "metadata": {
  "kernelspec": {
   "display_name": "Python 3",
   "language": "python",
   "name": "python3"
  },
  "language_info": {
   "codemirror_mode": {
    "name": "ipython",
    "version": 3
   },
   "file_extension": ".py",
   "mimetype": "text/x-python",
   "name": "python",
   "nbconvert_exporter": "python",
   "pygments_lexer": "ipython3",
   "version": "3.8.2+"
  }
 },
 "nbformat": 4,
 "nbformat_minor": 4
}
