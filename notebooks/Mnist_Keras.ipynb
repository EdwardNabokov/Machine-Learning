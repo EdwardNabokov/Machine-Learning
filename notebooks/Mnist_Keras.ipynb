{
 "cells": [
  {
   "cell_type": "markdown",
   "metadata": {},
   "source": [
    "# MNIST with Keras"
   ]
  },
  {
   "cell_type": "markdown",
   "metadata": {},
   "source": [
    "## Import"
   ]
  },
  {
   "cell_type": "code",
   "execution_count": 80,
   "metadata": {},
   "outputs": [
    {
     "name": "stdout",
     "output_type": "stream",
     "text": [
      "Looking in indexes: https://artifactory.int.datarobot.com/artifactory/api/pypi/python-all/simple\n",
      "Collecting matplotlib\n",
      "  Downloading https://artifactory.int.datarobot.com/artifactory/api/pypi/python-all/packages/1d/f6/4362df6969f25973eb04ee0ab147588401928faddebe19c73d222fd13161/matplotlib-3.2.1-cp38-cp38-macosx_10_9_x86_64.whl (12.4 MB)\n",
      "\u001b[K     |████████████████████████████████| 12.4 MB 2.7 MB/s eta 0:00:01\n",
      "\u001b[?25hCollecting cycler>=0.10\n",
      "  Downloading https://artifactory.int.datarobot.com/artifactory/api/pypi/python-all/packages/f7/d2/e07d3ebb2bd7af696440ce7e754c59dd546ffe1bbe732c8ab68b9c834e61/cycler-0.10.0-py2.py3-none-any.whl (6.5 kB)\n",
      "Collecting pyparsing!=2.0.4,!=2.1.2,!=2.1.6,>=2.0.1\n",
      "  Downloading https://artifactory.int.datarobot.com/artifactory/api/pypi/python-all/packages/8a/bb/488841f56197b13700afd5658fc279a2025a39e22449b7cf29864669b15d/pyparsing-2.4.7-py2.py3-none-any.whl (67 kB)\n",
      "\u001b[K     |████████████████████████████████| 67 kB 41.3 MB/s eta 0:00:01\n",
      "\u001b[?25hRequirement already satisfied: numpy>=1.11 in /Users/edward.nabokov/.local/share/virtualenvs/machine-learning-kOfFAzk2/lib/python3.8/site-packages (from matplotlib) (1.18.3)\n",
      "Collecting kiwisolver>=1.0.1\n",
      "  Downloading https://artifactory.int.datarobot.com/artifactory/api/pypi/python-all/packages/f6/d7/d7516741c1043c3b9a55b9eb7762ec06bab4df1187705efd7dbb37d6f5ee/kiwisolver-1.2.0-cp38-cp38-macosx_10_9_x86_64.whl (60 kB)\n",
      "\u001b[K     |████████████████████████████████| 60 kB 4.0 MB/s eta 0:00:011\n",
      "\u001b[?25hRequirement already satisfied: python-dateutil>=2.1 in /Users/edward.nabokov/.local/share/virtualenvs/machine-learning-kOfFAzk2/lib/python3.8/site-packages (from matplotlib) (2.8.1)\n",
      "Requirement already satisfied: six in /Users/edward.nabokov/.local/share/virtualenvs/machine-learning-kOfFAzk2/lib/python3.8/site-packages (from cycler>=0.10->matplotlib) (1.14.0)\n",
      "Installing collected packages: cycler, pyparsing, kiwisolver, matplotlib\n",
      "Successfully installed cycler-0.10.0 kiwisolver-1.2.0 matplotlib-3.2.1 pyparsing-2.4.7\n"
     ]
    }
   ],
   "source": [
    "!pip install matplotlib"
   ]
  },
  {
   "cell_type": "code",
   "execution_count": 102,
   "metadata": {},
   "outputs": [],
   "source": [
    "import keras\n",
    "from keras.datasets import mnist\n",
    "from keras.models import Sequential\n",
    "from keras.layers import Dense, Dropout, Flatten\n",
    "from keras.layers import Conv2D, MaxPooling2D\n",
    "from keras import backend as K\n",
    "\n",
    "import numpy as np\n",
    "from matplotlib import pyplot as plt\n",
    "from collections import namedtuple\n",
    "\n",
    "Shape = namedtuple('Size', ['rows', 'columns'])\n",
    "Hyperparameter = namedtuple('Hyperparameter', ['batch_size', 'number_classes', 'epochs', 'target_shape', 'window_size', 'pool_size'])\n",
    "\n",
    "\n",
    "%matplotlib inline"
   ]
  },
  {
   "cell_type": "code",
   "execution_count": 103,
   "metadata": {},
   "outputs": [],
   "source": [
    "def reshape(x: np.ndarray, shape=None) -> np.ndarray:\n",
    "    \"\"\"\n",
    "    Each image is 1-dimensional array.\n",
    "    This function reshapes each image to 2-dimensional matrix,\n",
    "        where its size is defined with `shape`.\n",
    "        \n",
    "    Parameters\n",
    "    ----------\n",
    "    x: Data\n",
    "    shape: Target shape of each image. If not specified, it will reshape to Shape(28, 28)\n",
    "    \n",
    "    Returns\n",
    "    -------\n",
    "    np.ndarray\n",
    "    \"\"\"\n",
    "    if shape is None:\n",
    "        shape = Shape(28, 28)\n",
    "    \n",
    "    reshaped_x = x.reshape(x.shape[0], shape.rows, shape.columns, 1)\n",
    "    return reshaped_x"
   ]
  },
  {
   "cell_type": "code",
   "execution_count": 104,
   "metadata": {},
   "outputs": [],
   "source": [
    "def normalize(x: np.ndarray) -> np.ndarray:\n",
    "    \"\"\"\n",
    "    Normalize data:\n",
    "        - convert all values in a range within 0 and 1\n",
    "        - cast all values to float\n",
    "        \n",
    "    Parameters\n",
    "    ----------\n",
    "    x: Data for training\n",
    "    \n",
    "    Returns\n",
    "    -------\n",
    "    np.ndarray\n",
    "    \"\"\"\n",
    "    return x.astype('float32') / 255"
   ]
  },
  {
   "cell_type": "code",
   "execution_count": 105,
   "metadata": {},
   "outputs": [],
   "source": [
    "def encode_into_onehot(y: np.ndarray, number_classes: int):\n",
    "    \"\"\"\n",
    "    Convert an array of answers into onehot encoded matrix.\n",
    "    \n",
    "    Parameters\n",
    "    ----------\n",
    "    y: target array that will be convert to one hot encoded matrix\n",
    "    number_classes: total number of classes\n",
    "    \n",
    "    Returns\n",
    "    -------\n",
    "    np.ndarray, matrix with shape of (number_classes x number_classes)\n",
    "    \"\"\"\n",
    "\n",
    "    if number_classes < 1:\n",
    "        raise ValueError(f'Number of classes must be greater than 1, given {number_classes}')\n",
    "\n",
    "    one_hot_encoded_y = keras.utils.to_categorical(y, number_classes)\n",
    "    return one_hot_encoded_y"
   ]
  },
  {
   "cell_type": "code",
   "execution_count": 106,
   "metadata": {},
   "outputs": [],
   "source": [
    "def build_keras_model(window_size: Shape, pool_size: Shape, number_classes: int):\n",
    "    \"\"\"\n",
    "    Build keras model based on Sequential\n",
    "    \n",
    "    Parameters\n",
    "    ----------\n",
    "    window_size: the sliding size of the pixels grid that is convolved. \n",
    "    pool_size: Window size which extract features.\n",
    "    number_classes: Total number of classes that must be distinguished.\n",
    "    \n",
    "    Returns\n",
    "    -------\n",
    "    Keras model which can be fitted and evaluated.\n",
    "    \"\"\"\n",
    "    model = Sequential()\n",
    "    # 32 - number of filters (kernels) that neural network is going to be learnt with\n",
    "    # each kernel has kernel size, each kernel has certain features it gathered while learning\n",
    "    # for first convolution, it's required to point input shape to start off\n",
    "    # in addition, it's good to use ReLu activation function.\n",
    "    # it's non-linear and allows network to converge faster.\n",
    "    model.add(Conv2D(32,\n",
    "                     kernel_size=tuple(window_size),\n",
    "                     activation='relu',\n",
    "                     input_shape=input_shape))\n",
    "    model.add(Conv2D(64, \n",
    "                     kernel_size=tuple(window_size), \n",
    "                     activation='relu'))\n",
    "\n",
    "    # based on kernels\n",
    "    # max pooling takes the max. value of matrix with size of given pool.\n",
    "    # it's a sliding window for kernels\n",
    "    # pooling reduces variance and speed up computation by shrinking matrices.\n",
    "    # there is one more pooling algorithm: average.\n",
    "    # maxpooling works better because it extracts important (max.) features (the brightest ones), \n",
    "    # and does not allow activated signals to fade out\n",
    "    model.add(MaxPooling2D(pool_size=(2, 2)))\n",
    "    \n",
    "    # after extracting important feature\n",
    "    # it's highly required and recommended to use dropout\n",
    "    # to avoid overfitting on training data.\n",
    "    # Dropout disables each neuron with a probability of 25%.\n",
    "    model.add(Dropout(0.25))\n",
    "    \n",
    "    # converts multidimensional matrix into 1-dimensional matrix (vector).\n",
    "    # it's an input signals to the furthur Dense nets\n",
    "    model.add(Flatten())\n",
    "    \n",
    "    # it's a simple dense net with 128 units\n",
    "    model.add(Dense(128, activation='relu', use_bias=True))\n",
    "    model.add(Dropout(0.5))\n",
    "    \n",
    "    # in case of multiclasses, softmax algorithm is used.\n",
    "    # a known logistic function (binary classification) is a special case of softmax.\n",
    "    model.add(Dense(\n",
    "        units=number_classes,\n",
    "        activation='softmax'))\n",
    "\n",
    "    # in alternative to binary crossentropy, it's used categorical one to calculate loss\n",
    "    # there are a bunch of optimizers: RMSprop, Adadelta, Adamax, Adam, etc.\n",
    "    model.compile(loss=keras.losses.categorical_crossentropy,\n",
    "                  optimizer=keras.optimizers.Adadelta(),\n",
    "                  metrics=['accuracy'])\n",
    "\n",
    "    return model"
   ]
  },
  {
   "cell_type": "code",
   "execution_count": 107,
   "metadata": {},
   "outputs": [],
   "source": [
    "def visualize_accuracy(history):\n",
    "    plt.plot(history.history['accuracy'])\n",
    "    plt.plot(history.history['val_accuracy'])\n",
    "    plt.title('Accuracy of the model')\n",
    "    plt.ylabel('accuracy')\n",
    "    plt.xlabel('epoch')\n",
    "    plt.legend(['train', 'test'], loc='upper left')\n",
    "    plt.show()\n",
    "\n",
    "def visualize_loss(history):\n",
    "    plt.plot(history.history['loss'])\n",
    "    plt.plot(history.history['val_loss'])\n",
    "    plt.title('Loss of the model')\n",
    "    plt.ylabel('loss')\n",
    "    plt.xlabel('epoch')\n",
    "    plt.legend(['train', 'test'], loc='upper left')\n",
    "    plt.show()"
   ]
  },
  {
   "cell_type": "code",
   "execution_count": 108,
   "metadata": {},
   "outputs": [
    {
     "name": "stdout",
     "output_type": "stream",
     "text": [
      "Xtrain shape:  (60000, 28, 28, 1)\n",
      "Ytrain shape:  (60000, 10)\n",
      "Xtest shape:  (10000, 28, 28, 1)\n",
      "Ytest shape:  (10000, 10)\n",
      "Train on 60000 samples, validate on 10000 samples\n",
      "Epoch 1/12\n",
      "60000/60000 [==============================] - 49s 815us/step - loss: 0.2749 - accuracy: 0.9151 - val_loss: 0.0652 - val_accuracy: 0.9789\n",
      "Epoch 2/12\n",
      "60000/60000 [==============================] - 49s 815us/step - loss: 0.0898 - accuracy: 0.9732 - val_loss: 0.0403 - val_accuracy: 0.9862\n",
      "Epoch 3/12\n",
      "60000/60000 [==============================] - 49s 818us/step - loss: 0.0662 - accuracy: 0.9804 - val_loss: 0.0345 - val_accuracy: 0.9891\n",
      "Epoch 4/12\n",
      "60000/60000 [==============================] - 50s 839us/step - loss: 0.0550 - accuracy: 0.9832 - val_loss: 0.0340 - val_accuracy: 0.9891\n",
      "Epoch 5/12\n",
      "60000/60000 [==============================] - 49s 823us/step - loss: 0.0480 - accuracy: 0.9850 - val_loss: 0.0319 - val_accuracy: 0.9897\n",
      "Epoch 6/12\n",
      "60000/60000 [==============================] - 49s 809us/step - loss: 0.0411 - accuracy: 0.9873 - val_loss: 0.0318 - val_accuracy: 0.9902\n",
      "Epoch 7/12\n",
      "60000/60000 [==============================] - 49s 819us/step - loss: 0.0370 - accuracy: 0.9887 - val_loss: 0.0279 - val_accuracy: 0.9912\n",
      "Epoch 8/12\n",
      "60000/60000 [==============================] - 48s 806us/step - loss: 0.0328 - accuracy: 0.9899 - val_loss: 0.0302 - val_accuracy: 0.9907\n",
      "Epoch 9/12\n",
      "60000/60000 [==============================] - 48s 795us/step - loss: 0.0319 - accuracy: 0.9899 - val_loss: 0.0265 - val_accuracy: 0.9922\n",
      "Epoch 10/12\n",
      "60000/60000 [==============================] - 47s 790us/step - loss: 0.0283 - accuracy: 0.9909 - val_loss: 0.0290 - val_accuracy: 0.9907\n",
      "Epoch 11/12\n",
      "60000/60000 [==============================] - 49s 813us/step - loss: 0.0267 - accuracy: 0.9914 - val_loss: 0.0258 - val_accuracy: 0.9914\n",
      "Epoch 12/12\n",
      "60000/60000 [==============================] - 50s 835us/step - loss: 0.0246 - accuracy: 0.9927 - val_loss: 0.0264 - val_accuracy: 0.9922\n"
     ]
    }
   ],
   "source": [
    "hyperparameter = Hyperparameter(\n",
    "    batch_size=128,\n",
    "    number_classes=10, # there are only 10 digits\n",
    "    epochs=12,\n",
    "    target_shape=Shape(rows=28, columns=28),\n",
    "    window_size=Shape(rows=3, columns=3),\n",
    "    pool_size=Shape(rows=2, columns=2),\n",
    ")\n",
    "\n",
    "(xtrain, ytrain), (xtest, ytest) = mnist.load_data()\n",
    "xtrain = reshape(x=xtrain, shape=hyperparameter.target_shape)\n",
    "xtest = reshape(x=xtest, shape=hyperparameter.target_shape)\n",
    "xtrain = normalize(xtrain)\n",
    "xtest = normalize(xtest)\n",
    "\n",
    "ytrain = encode_into_onehot(ytrain, number_classes=hyperparameter.number_classes)\n",
    "ytest = encode_into_onehot(ytest, number_classes=hyperparameter.number_classes)\n",
    "\n",
    "print('Xtrain shape: ', xtrain.shape)\n",
    "print('Ytrain shape: ', ytrain.shape)\n",
    "print('Xtest shape: ', xtest.shape)\n",
    "print('Ytest shape: ', ytest.shape)\n",
    "\n",
    "model = build_keras_model(\n",
    "    window_size=hyperparameter.window_size,\n",
    "    pool_size=hyperparameter.pool_size,\n",
    "    number_classes=hyperparameter.number_classes,\n",
    ")\n",
    "\n",
    "history = model.fit(xtrain, ytrain,\n",
    "      batch_size=hyperparameter.batch_size,\n",
    "      epochs=hyperparameter.epochs,\n",
    "      validation_data=(xtest, ytest),\n",
    "      verbose=1,\n",
    ")"
   ]
  },
  {
   "cell_type": "code",
   "execution_count": 109,
   "metadata": {},
   "outputs": [
    {
     "name": "stdout",
     "output_type": "stream",
     "text": [
      "Test loss: 2.6355050009788363\n",
      "Test accuracy: 99.22000169754028\n"
     ]
    },
    {
     "data": {
      "image/png": "[encoded data removed]",
      "text/plain": [
       "<Figure size 432x288 with 1 Axes>"
      ]
     },
     "metadata": {
      "needs_background": "light"
     },
     "output_type": "display_data"
    },
    {
     "data": {
      "image/png": "[encoded data removed]",
      "text/plain": [
       "<Figure size 432x288 with 1 Axes>"
      ]
     },
     "metadata": {
      "needs_background": "light"
     },
     "output_type": "display_data"
    }
   ],
   "source": [
    "loss, accuracy = model.evaluate(xtest, ytest, verbose=0)\n",
    "print('Test loss:', loss * 100)\n",
    "print('Test accuracy:', accuracy * 100)\n",
    "\n",
    "visualize_accuracy(history)\n",
    "visualize_loss(history)"
   ]
  },
  {
   "cell_type": "code",
   "execution_count": null,
   "metadata": {},
   "outputs": [],
   "source": []
  }
 ],
 "metadata": {
  "kernelspec": {
   "display_name": "Python 3",
   "language": "python",
   "name": "python3"
  },
  "language_info": {
   "codemirror_mode": {
    "name": "ipython",
    "version": 3
   },
   "file_extension": ".py",
   "mimetype": "text/x-python",
   "name": "python",
   "nbconvert_exporter": "python",
   "pygments_lexer": "ipython3",
   "version": "3.8.2+"
  }
 },
 "nbformat": 4,
 "nbformat_minor": 4
}
