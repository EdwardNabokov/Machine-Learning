{
 "cells": [
  {
   "cell_type": "code",
   "execution_count": 1,
   "metadata": {
    "collapsed": true
   },
   "outputs": [],
   "source": [
    "import pandas as pd\n",
    "import numpy as np\n",
    "import matplotlib.pyplot as plt"
   ]
  },
  {
   "cell_type": "markdown",
   "metadata": {},
   "source": [
    "# Linear Regression"
   ]
  },
  {
   "cell_type": "code",
   "execution_count": 2,
   "metadata": {
    "collapsed": true
   },
   "outputs": [],
   "source": [
    "class LinearRegression:\n",
    "    def __init__(self, rate=0.01, epochs=50, method='gradient', normalize=True, regularize=0.1, poly=2):\n",
    "        \"\"\"\n",
    "        Basic constructor for linear regression.\n",
    "        \n",
    "        Parameters\n",
    "        ----------\n",
    "        rate : float (default 0.01)\n",
    "            Learning rate.\n",
    "        \n",
    "        epochs : int (default 50)\n",
    "            Quantity of iterations.\n",
    "            \n",
    "        method : str (default 'gradient')\n",
    "            Method to solve the problem. It can be 'gaussian' or 'gradient'.\n",
    "        \n",
    "        normalize : bool (default True) \n",
    "            Normalize features to boost convergence.\n",
    "        \n",
    "        regularize : float (default 0.1)\n",
    "            Avoid overfitting during learning.\n",
    "        \n",
    "        poly : int (default 2)\n",
    "            Max polynomial power.\n",
    "        \n",
    "        \"\"\"\n",
    "        \n",
    "        self.rate = rate\n",
    "        self.epochs = epochs\n",
    "        self.method = method\n",
    "        self.normalize = normalize\n",
    "        self.regularize = regularize\n",
    "        self.poly = poly\n",
    "    \n",
    "    def data(self, X, y):\n",
    "        \"\"\"\n",
    "        Preprocess data, generate weights.\n",
    "        \n",
    "        Parameters\n",
    "        ----------\n",
    "        X : numpy.ndarray, shape (n_samples, n_features)\n",
    "            Training vector, where n_samples is the number of samples and\n",
    "            n_features is the number of features.\n",
    "            \n",
    "        y : numpy.ndarray, shape (n_samples, 1) or (n_samples, n_labels)\n",
    "            Target relative to X for classification or regression;\n",
    "            None for unsupervised learning.\n",
    "        \n",
    "        Returns\n",
    "        -------\n",
    "        tuple(numpy.ndarray, numpy.ndarray, numpy.ndarray)\n",
    "        \n",
    "        \"\"\"\n",
    "        \n",
    "        # normalize data\n",
    "        if self.normalize:\n",
    "            X = self.normalization(X)\n",
    "        \n",
    "        # add polynomial\n",
    "        for i in range(self.poly - 1):\n",
    "            new_poly_X = (X[:, 0] ** (i + 2)).reshape(len(X[:, 0]), 1)\n",
    "            X = np.hstack((X, new_poly_X))\n",
    "        \n",
    "        # add bias\n",
    "        Xtrain = np.hstack((np.ones((X.shape[0], 1)), X))\n",
    "        ytrain = y.reshape((len(y), 1))\n",
    "        theta = np.zeros((Xtrain.shape[1], 1))\n",
    "        \n",
    "        return Xtrain, ytrain, theta\n",
    "    \n",
    "    def fit(self, X, y):\n",
    "        \"\"\"\n",
    "        Preprocess data, generate weights and train model.\n",
    "\n",
    "        Parameters\n",
    "        ----------\n",
    "        X : numpy.ndarray, shape (n_samples, n_features)\n",
    "            The training set of features.\n",
    "\n",
    "        y : numpy.ndarray, shape (n_samples, 1) or (n_samples, n_labels)\n",
    "            The training set of labels.\n",
    "        \n",
    "        \"\"\"\n",
    "        \n",
    "        self.Xtrain, self.ytrain, self.theta = self.data(X, y)\n",
    "        \n",
    "        if self.method == 'gradient':\n",
    "            self.gradient_descent()\n",
    "        elif self.method == 'gaussian':\n",
    "            self.theta = self.normal_equation()\n",
    "    \n",
    "    \n",
    "    def hypothesis(self, theta, Xtrain):\n",
    "        \"\"\"Return multiplication of two matrices: theta and X features.\"\"\"\n",
    "        return np.dot(Xtrain, theta)\n",
    "    \n",
    "    def normal_equation(self):\n",
    "        \"\"\"Implement gaussian equation and return theta.\"\"\"\n",
    "        return np.dot(np.dot(np.linalg.inv(np.dot(self.Xtrain.T, self.Xtrain)), self.Xtrain.T), self.ytrain)\n",
    "    \n",
    "    def normalization(self, Xtrain):\n",
    "        \"\"\"Normalize X features and return it.\"\"\"\n",
    "        return (Xtrain - Xtrain.mean(axis=0)) / (Xtrain.max(axis=0) - Xtrain.min(axis=0))\n",
    "    \n",
    "    def cost(self):\n",
    "        \"\"\"Calculate cost function (error) and return it.\"\"\"\n",
    "        return 1 / (2 * self.Xtrain.shape[0]) * sum((self.hypothesis(self.theta, self.Xtrain) - self.ytrain) ** 2)\n",
    "    \n",
    "    def gradient_step(self):\n",
    "        \"\"\"Implement one gradient step and return current theta.\"\"\"\n",
    "        return self.theta - self.rate / len(self.Xtrain) * \\\n",
    "            sum((np.dot(self.Xtrain, self.theta) - self.ytrain) * self.Xtrain).reshape(self.theta.shape) + \\\n",
    "            self.regularize / len(self.theta) * sum(self.theta)\n",
    "    \n",
    "    def gradient_descent(self):\n",
    "        \"\"\"Implement gradient descent, until convergence.\"\"\"\n",
    "        for iteration in range(self.epochs):\n",
    "            self.theta = self.gradient_step()\n",
    "    \n",
    "    def predict(self, X): \n",
    "        \"\"\"\n",
    "        Compute hypothesis using trained weights and given Xtest.\n",
    "        \n",
    "        Parameters\n",
    "        ----------\n",
    "        X : numpy.ndarray, shape (n_samples, n_features)\n",
    "            The training set of features. \n",
    "        \n",
    "        Returns\n",
    "        -------\n",
    "        numpy.ndarray\n",
    "            Predicted value or multiple values.\n",
    "        \n",
    "        \"\"\"\n",
    "        \n",
    "        if type(X) not in (np.ndarray, list):\n",
    "            X = np.array([X / 100]).reshape((1, 1))\n",
    "            \n",
    "            if self.poly > 1:\n",
    "                for i in range(self.poly - 1):\n",
    "                    new_poly_X = (X[:, 0] ** (i + 2)).reshape((1, 1))\n",
    "                    X = np.hstack((X, new_poly_X))\n",
    "            \n",
    "            X = np.hstack((np.zeros((1, 1)), X))\n",
    "            \n",
    "            Xpredict = X\n",
    "            \n",
    "        else:\n",
    "            Xpredict = np.concatenate((np.ones(len(X))[:, np.newaxis], X), axis=1).reshape((len(Xpredict), 1))\n",
    "        \n",
    "        return self.hypothesis(self.theta, Xpredict)[0, 0]\n",
    "    \n",
    "    def show(self):\n",
    "        \"\"\"Plot the history of the cost function during all time of training.\"\"\"\n",
    "        plt.title('Data')\n",
    "        plt.scatter(self.Xtrain[:, 1], self.ytrain, c='b', label='data')\n",
    "        plt.plot(self.Xtrain[:, 1], np.dot(self.Xtrain, self.theta), c='r', label='linear regression')\n",
    "        plt.xlabel('X')\n",
    "        plt.ylabel('Y')\n",
    "        plt.legend()\n",
    "        plt.show()\n",
    "        \n",
    "        print('Theta: ', *self.theta.T)\n",
    "        print('Cost: ', self.cost()[0])"
   ]
  },
  {
   "cell_type": "markdown",
   "metadata": {},
   "source": [
    "## Testing"
   ]
  },
  {
   "cell_type": "markdown",
   "metadata": {},
   "source": [
    "### Example 1"
   ]
  },
  {
   "cell_type": "code",
   "execution_count": 3,
   "metadata": {
    "collapsed": true
   },
   "outputs": [],
   "source": [
    "test = LinearRegression(rate=1.3, epochs=500, normalize=True, poly=2, regularize=0)"
   ]
  },
  {
   "cell_type": "code",
   "execution_count": 4,
   "metadata": {
    "collapsed": true
   },
   "outputs": [],
   "source": [
    "X = np.arange(-50, 50, 1).reshape((100, 1))\n",
    "y = X ** 2 + np.random.randn(100).reshape((100, 1)) * 100 + 50"
   ]
  },
  {
   "cell_type": "code",
   "execution_count": 5,
   "metadata": {},
   "outputs": [
    {
     "data": {
      "image/png": "[encoded data removed]",
      "text/plain": [
       "<matplotlib.figure.Figure at 0x7f265a1d2978>"
      ]
     },
     "metadata": {},
     "output_type": "display_data"
    }
   ],
   "source": [
    "plt.scatter(X, y, label='points')\n",
    "plt.plot(X, X * 0, c='r', label='model')\n",
    "plt.legend()\n",
    "plt.xlabel('X')\n",
    "plt.ylabel('Y')\n",
    "plt.show()"
   ]
  },
  {
   "cell_type": "code",
   "execution_count": 6,
   "metadata": {
    "collapsed": true,
    "scrolled": true
   },
   "outputs": [],
   "source": [
    "test.fit(X, y)"
   ]
  },
  {
   "cell_type": "code",
   "execution_count": 7,
   "metadata": {},
   "outputs": [
    {
     "data": {
      "image/png": "[encoded data removed]",
      "text/plain": [
       "<matplotlib.figure.Figure at 0x7f265a1d2208>"
      ]
     },
     "metadata": {},
     "output_type": "display_data"
    },
    {
     "name": "stdout",
     "output_type": "stream",
     "text": [
      "Theta:  [   58.923225     -79.83425112  9686.96561846]\n",
      "Cost:  5287.24321485\n"
     ]
    }
   ],
   "source": [
    "test.show()"
   ]
  },
  {
   "cell_type": "code",
   "execution_count": 8,
   "metadata": {},
   "outputs": [
    {
     "name": "stdout",
     "output_type": "stream",
     "text": [
      "Predicted:  847.876630327\n",
      "Actual:  900\n"
     ]
    }
   ],
   "source": [
    "print('Predicted: ', test.predict(30))\n",
    "print('Actual: ', 30 ** 2)"
   ]
  },
  {
   "cell_type": "markdown",
   "metadata": {},
   "source": [
    "### Example 2"
   ]
  },
  {
   "cell_type": "code",
   "execution_count": 9,
   "metadata": {
    "collapsed": true
   },
   "outputs": [],
   "source": [
    "test = LinearRegression(rate=1, epochs=800, normalize=True, poly=3, regularize=0.001)"
   ]
  },
  {
   "cell_type": "code",
   "execution_count": 10,
   "metadata": {
    "collapsed": true
   },
   "outputs": [],
   "source": [
    "X = np.arange(-50, 50, 2).reshape((50, 1))\n",
    "y = X ** 3 + np.random.randn(50).reshape((50, 1)) * 10 + 150"
   ]
  },
  {
   "cell_type": "code",
   "execution_count": 11,
   "metadata": {},
   "outputs": [
    {
     "data": {
      "image/png": "[encoded data removed]",
      "text/plain": [
       "<matplotlib.figure.Figure at 0x7f26580e3ef0>"
      ]
     },
     "metadata": {},
     "output_type": "display_data"
    }
   ],
   "source": [
    "plt.scatter(X, y, label='points')\n",
    "plt.plot(X, X * 0, c='r', label='model')\n",
    "plt.legend()\n",
    "plt.xlabel('X')\n",
    "plt.ylabel('Y')\n",
    "plt.show()"
   ]
  },
  {
   "cell_type": "code",
   "execution_count": 12,
   "metadata": {
    "collapsed": true
   },
   "outputs": [],
   "source": [
    "test.fit(X, y)"
   ]
  },
  {
   "cell_type": "code",
   "execution_count": 13,
   "metadata": {},
   "outputs": [
    {
     "data": {
      "image/png": "[encoded data removed]",
      "text/plain": [
       "<matplotlib.figure.Figure at 0x7f26580c8780>"
      ]
     },
     "metadata": {},
     "output_type": "display_data"
    },
    {
     "name": "stdout",
     "output_type": "stream",
     "text": [
      "Theta:  [   -905.68017809  100599.89076188  -15531.62397158  309329.46671915]\n",
      "Cost:  80695490.167\n"
     ]
    }
   ],
   "source": [
    "test.show()"
   ]
  },
  {
   "cell_type": "code",
   "execution_count": 14,
   "metadata": {},
   "outputs": [
    {
     "name": "stdout",
     "output_type": "stream",
     "text": [
      "Predicted:  37134.0166725\n",
      "Actual:  27000\n"
     ]
    }
   ],
   "source": [
    "print('Predicted: ', test.predict(30))\n",
    "print('Actual: ', 30 ** 3)"
   ]
  }
 ],
 "metadata": {
  "anaconda-cloud": {},
  "kernelspec": {
   "display_name": "Python 3",
   "language": "python",
   "name": "python3"
  },
  "language_info": {
   "codemirror_mode": {
    "name": "ipython",
    "version": 3
   },
   "file_extension": ".py",
   "mimetype": "text/x-python",
   "name": "python",
   "nbconvert_exporter": "python",
   "pygments_lexer": "ipython3",
   "version": "3.5.2"
  }
 },
 "nbformat": 4,
 "nbformat_minor": 1
}
